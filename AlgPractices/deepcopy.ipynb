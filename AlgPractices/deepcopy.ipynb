{
 "cells": [
  {
   "cell_type": "code",
   "execution_count": 1,
   "metadata": {},
   "outputs": [],
   "source": [
    "import copy"
   ]
  },
  {
   "cell_type": "code",
   "execution_count": 3,
   "metadata": {},
   "outputs": [],
   "source": [
    "A = {\n",
    "    \"key1\" : 23,\n",
    "    \"key2\" : \"this is a tring\",\n",
    "    \"key3\" : 45\n",
    "}"
   ]
  },
  {
   "cell_type": "code",
   "execution_count": 6,
   "metadata": {},
   "outputs": [
    {
     "name": "stdout",
     "output_type": "stream",
     "text": [
      "The B is {'key1': 32, 'key2': 'this is a tring', 'key3': 45}\n",
      "The A is {'key1': 32, 'key2': 'this is a tring', 'key3': 45}\n"
     ]
    }
   ],
   "source": [
    "B = A\n",
    "B[\"key1\"] = 32\n",
    "print(\"The B is {}\".format(B))\n",
    "print(\"The A is {}\".format(A))"
   ]
  },
  {
   "cell_type": "code",
   "execution_count": 7,
   "metadata": {},
   "outputs": [],
   "source": [
    "C = {\n",
    "    \"key1\" : 23,\n",
    "    \"key2\" : \"this is a tring\",\n",
    "    \"key3\" : 45\n",
    "}"
   ]
  },
  {
   "cell_type": "code",
   "execution_count": 8,
   "metadata": {},
   "outputs": [],
   "source": [
    "D = copy.deepcopy(C)"
   ]
  },
  {
   "cell_type": "code",
   "execution_count": 12,
   "metadata": {},
   "outputs": [
    {
     "name": "stdout",
     "output_type": "stream",
     "text": [
      "{'key1': 32, 'key2': 'this is a tring', 'key3': 45}\n",
      "{'key1': 23, 'key2': 'this is a tring', 'key3': 45}\n"
     ]
    }
   ],
   "source": [
    "D[\"key1\"] = 32\n",
    "print(D)\n",
    "print(C)"
   ]
  },
  {
   "cell_type": "code",
   "execution_count": null,
   "metadata": {},
   "outputs": [],
   "source": []
  }
 ],
 "metadata": {
  "kernelspec": {
   "display_name": "Python 3",
   "language": "python",
   "name": "python3"
  },
  "language_info": {
   "codemirror_mode": {
    "name": "ipython",
    "version": 3
   },
   "file_extension": ".py",
   "mimetype": "text/x-python",
   "name": "python",
   "nbconvert_exporter": "python",
   "pygments_lexer": "ipython3",
   "version": "3.6.8"
  }
 },
 "nbformat": 4,
 "nbformat_minor": 2
}
