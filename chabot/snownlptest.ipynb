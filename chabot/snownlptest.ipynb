{
 "cells": [
  {
   "cell_type": "code",
   "execution_count": 3,
   "metadata": {},
   "outputs": [],
   "source": [
    "import jieba\n",
    "#import jieba.posseg as jpos"
   ]
  },
  {
   "cell_type": "code",
   "execution_count": 8,
   "metadata": {},
   "outputs": [
    {
     "name": "stdout",
     "output_type": "stream",
     "text": [
      "##########全模式分詞##########\n",
      "今天\n",
      "天台\n",
      "台北\n",
      "天氣\n",
      "好\n",
      "熱\n",
      "##########精確模式分詞+HMM##########\n",
      "今天\n",
      "台北\n",
      "天氣\n",
      "好熱\n",
      "##########精確模式分詞-HMM##########\n",
      "今天\n",
      "台北\n",
      "天氣\n",
      "好\n",
      "熱\n",
      "##########搜尋模式分詞##########\n",
      "今天\n",
      "台北\n",
      "天氣\n",
      "好熱\n"
     ]
    }
   ],
   "source": [
    "sent = \"今天台北天氣好熱\"\n",
    "jieba.load_userdict('dict.tw.big.txt')\n",
    "words_cut_all = jieba.cut(sent,cut_all=True)\n",
    "words_cut_default_with_HMM = jieba.cut(sent,cut_all=False,HMM=True)\n",
    "word_cut_default_without_HMM = jieba.cut(sent,cut_all=False,HMM=False)\n",
    "word_cut_for_search = jieba.cut_for_search(sent)\n",
    "# print out full_mode cut\n",
    "print(\"##########全模式分詞##########\")\n",
    "for word in words_cut_all:\n",
    "    print(\"{}\".format(word))\n",
    "    \n",
    "print(\"##########精確模式分詞+HMM##########\")\n",
    "for word in words_cut_default_with_HMM:\n",
    "    print(\"{}\".format(word))\n",
    "    \n",
    "print(\"##########精確模式分詞-HMM##########\")\n",
    "for word in word_cut_default_without_HMM:\n",
    "    print(\"{}\".format(word))\n",
    "    \n",
    "print(\"##########搜尋模式分詞##########\")\n",
    "for word in word_cut_for_search:\n",
    "    print(\"{}\".format(word))"
   ]
  },
  {
   "cell_type": "code",
   "execution_count": 9,
   "metadata": {},
   "outputs": [
    {
     "data": {
      "text/plain": [
       "'\\nsent = SnowNLP(\\'這個東西真的好贊\\')\\njieba.load_userdict(\\'dict.tw.big.txt\\')\\nwords_cut_all = jpos.cut(\\'這個東西真的好贊\\',cut_all=true)\\nwords_cut_default = jpos.cut(\\'這個東西真的好贊\\',cut_)\\nword_cut_for_search = jpos.cut_for_search\\nfor word, flag in words:\\n    print(\"{}:{}\".format(word,flag))\\n'"
      ]
     },
     "execution_count": 9,
     "metadata": {},
     "output_type": "execute_result"
    }
   ],
   "source": [
    "\"\"\"\n",
    "sent = SnowNLP('這個東西真的好贊')\n",
    "jieba.load_userdict('dict.tw.big.txt')\n",
    "words_cut_all = jpos.cut('這個東西真的好贊',cut_all=true)\n",
    "words_cut_default = jpos.cut('這個東西真的好贊',cut_)\n",
    "word_cut_for_search = jpos.cut_for_search\n",
    "for word, flag in words:\n",
    "    print(\"{}:{}\".format(word,flag))\n",
    "\"\"\""
   ]
  },
  {
   "cell_type": "code",
   "execution_count": 21,
   "metadata": {},
   "outputs": [
    {
     "name": "stdout",
     "output_type": "stream",
     "text": [
      "['這', '個', '東', '西真', '的', '好', '贊']\n",
      "<generator object cut at 0x13e7d77d8>\n"
     ]
    }
   ],
   "source": [
    "#print(sent.words)"
   ]
  },
  {
   "cell_type": "code",
   "execution_count": null,
   "metadata": {},
   "outputs": [],
   "source": []
  }
 ],
 "metadata": {
  "kernelspec": {
   "display_name": "Python 3",
   "language": "python",
   "name": "python3"
  },
  "language_info": {
   "codemirror_mode": {
    "name": "ipython",
    "version": 3
   },
   "file_extension": ".py",
   "mimetype": "text/x-python",
   "name": "python",
   "nbconvert_exporter": "python",
   "pygments_lexer": "ipython3",
   "version": "3.6.5"
  }
 },
 "nbformat": 4,
 "nbformat_minor": 2
}
