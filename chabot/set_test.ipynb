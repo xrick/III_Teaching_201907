{
 "cells": [
  {
   "cell_type": "code",
   "execution_count": 1,
   "metadata": {},
   "outputs": [],
   "source": [
    "import os"
   ]
  },
  {
   "cell_type": "code",
   "execution_count": 8,
   "metadata": {},
   "outputs": [],
   "source": [
    "word_list = [\"insightful\", \"students\", \"who\", \"can\", \"see\", \"right\", \"through\", \"their\", \\\n",
    "             \"pathetic\", \"teachers\",  \"pomp\",  \"the\", \"pettiness\",]\n",
    "vocab = list(set(word_list))\n",
    "word2index = {}\n",
    "for i,word in enumerate(vocab):\n",
    "    word2index[word]=i"
   ]
  },
  {
   "cell_type": "code",
   "execution_count": 11,
   "metadata": {},
   "outputs": [
    {
     "name": "stdout",
     "output_type": "stream",
     "text": [
      "word_list: ['insightful', 'students', 'who', 'can', 'see', 'right', 'through', 'their', 'pathetic', 'teachers', 'pomp', 'the', 'pettiness']\n",
      "vocab : ['students', 'see', 'the', 'pathetic', 'insightful', 'can', 'right', 'their', 'pomp', 'pettiness', 'who', 'teachers', 'through']\n",
      "word2index: {'students': 0, 'see': 1, 'the': 2, 'pathetic': 3, 'insightful': 4, 'can': 5, 'right': 6, 'their': 7, 'pomp': 8, 'pettiness': 9, 'who': 10, 'teachers': 11, 'through': 12}\n"
     ]
    }
   ],
   "source": [
    "print(\"word_list: {}\".format(word_list))\n",
    "print(\"vocab : {}\".format(vocab))\n",
    "print(\"word2index: {}\".format(word2index))"
   ]
  },
  {
   "cell_type": "code",
   "execution_count": 10,
   "metadata": {},
   "outputs": [
    {
     "name": "stdout",
     "output_type": "stream",
     "text": [
      "index is 0 and value is apples\n",
      "index is 1 and value is bananas\n",
      "index is 2 and value is oranges\n"
     ]
    }
   ],
   "source": [
    "L = ['apples', 'bananas', 'oranges']\n",
    "for idx, val in enumerate(L):\n",
    "    print(\"index is %d and value is %s\" % (idx, val))"
   ]
  },
  {
   "cell_type": "code",
   "execution_count": null,
   "metadata": {},
   "outputs": [],
   "source": []
  }
 ],
 "metadata": {
  "kernelspec": {
   "display_name": "Python 3",
   "language": "python",
   "name": "python3"
  },
  "language_info": {
   "codemirror_mode": {
    "name": "ipython",
    "version": 3
   },
   "file_extension": ".py",
   "mimetype": "text/x-python",
   "name": "python",
   "nbconvert_exporter": "python",
   "pygments_lexer": "ipython3",
   "version": "3.6.5"
  }
 },
 "nbformat": 4,
 "nbformat_minor": 2
}
